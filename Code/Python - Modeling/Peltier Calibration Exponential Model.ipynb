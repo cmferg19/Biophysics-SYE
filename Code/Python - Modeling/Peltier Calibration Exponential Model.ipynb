{
 "cells": [
  {
   "cell_type": "code",
   "execution_count": 14,
   "id": "31e9ca55",
   "metadata": {},
   "outputs": [
    {
     "name": "stdout",
     "output_type": "stream",
     "text": [
      "R² = 0.9991079964221486\n",
      "Y = 48.04248730543552 * e^(--0.08846087495521651 * x) + -27.647749272641995\n",
      "Tau = -565.2216307527209 µs\n"
     ]
    },
    {
     "data": {
      "image/png": "[encoded data removed]",
      "text/plain": [
       "<Figure size 432x288 with 1 Axes>"
      ]
     },
     "metadata": {
      "needs_background": "light"
     },
     "output_type": "display_data"
    }
   ],
   "source": [
    "import numpy as np\n",
    "import scipy.optimize\n",
    "import matplotlib.pyplot as plt\n",
    "import pandas as pd #allows for data manipulation\n",
    "\n",
    "g = pd.DataFrame({('bits'):[0, 17, 34, 51, 68, 85, 102, 119, 136, 153, 170, 187, 204, 221, 238],\n",
    "                  ('volts'):[0, 0.33, 0.67, 1.0, 1.33, 1.67, 2.0, 2.33, 2.67, 3.0, 3.33, 3.67, 4.0, 4.33, 4.67],\n",
    "                  ('y'):[20.67, 22, 23, 24.33, 26.33, 28.33, 29.67, 31.67, 33, 35, 37, 39, 40.67, 42.67, 45]})\n",
    "\n",
    "\n",
    "def monoExp(x, m, t, b):\n",
    "    return m * np.exp(-t * x) + b\n",
    "# perform the fit\n",
    "p0 = (0.01, 0.01, 0) # start with values near those we expect\n",
    "params, cv = scipy.optimize.curve_fit(monoExp, g.volts, g.y,p0)\n",
    "m, t, b = params\n",
    "sampleRate = 20_000 # Hz\n",
    "tauSec = (1 / t) / sampleRate\n",
    "\n",
    "# determine quality of the fit\n",
    "squaredDiffs = np.square(g.y - monoExp(g.volts, m, t, b))\n",
    "squaredDiffsFromMean = np.square(g.y - np.mean(g.y))\n",
    "rSquared = 1 - np.sum(squaredDiffs) / np.sum(squaredDiffsFromMean)\n",
    "print(f\"R² = {rSquared}\")\n",
    "\n",
    "# plot the results\n",
    "plt.plot(g.volts, g.y, '.', label=\"data\")\n",
    "plt.plot(g.volts, monoExp(g.volts, m, t, b), '--', label=\"fitted\")\n",
    "plt.title(\"Fitted Exponential Curve for Peltier 2\")\n",
    "plt.xlabel(\"Power (V)\")\n",
    "plt.ylabel(\"Temperature (C)\")\n",
    "plt.errorbar(g.volts,g.y, yerr = 1.53,fmt=\"o\")\n",
    "\n",
    "\n",
    "\n",
    "\n",
    "# inspect the parameters\n",
    "print(f\"Y = {m} * e^(-{t} * x) + {b}\")\n",
    "print(f\"Tau = {tauSec * 1e6} µs\")\n"
   ]
  },
  {
   "cell_type": "code",
   "execution_count": null,
   "id": "640dc4ea",
   "metadata": {},
   "outputs": [],
   "source": []
  }
 ],
 "metadata": {
  "kernelspec": {
   "display_name": "Python 3",
   "language": "python",
   "name": "python3"
  },
  "language_info": {
   "codemirror_mode": {
    "name": "ipython",
    "version": 3
   },
   "file_extension": ".py",
   "mimetype": "text/x-python",
   "name": "python",
   "nbconvert_exporter": "python",
   "pygments_lexer": "ipython3",
   "version": "3.8.8"
  }
 },
 "nbformat": 4,
 "nbformat_minor": 5
}
